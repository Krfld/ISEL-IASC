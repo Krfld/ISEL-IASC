{
 "cells": [
  {
   "cell_type": "code",
   "execution_count": 1,
   "metadata": {},
   "outputs": [],
   "source": [
    "import numpy as np\n",
    "import matplotlib.pyplot as plt\n",
    "from keras.models import Sequential\n",
    "from keras.layers.core import Dense\n",
    "from keras import activations\n",
    "from keras import optimizers\n",
    "\n",
    "EPOCHS = 1000\n",
    "\n",
    "HL_NEURONS = 8\n",
    "LR = [0.05, 0.25, 0.5, 1, 2]\n",
    "\n",
    "ACTIVATION = activations.sigmoid\n",
    "MOMENTUUM = 0\n",
    "SHUFFLE = True\n",
    "\n",
    "LOSS_TARGET = 0.1\n",
    "\n",
    "# the four different states of the XOR gate\n",
    "training_data = np.array([[0, 0], [0, 1], [1, 0], [1, 1]])\n",
    "\n",
    "# the four expected results in the same order\n",
    "target_data = np.array([[0], [1], [1], [0]])\n",
    "\n",
    "model = Sequential()\n",
    "model.add(Dense(HL_NEURONS, input_dim=2, activation=ACTIVATION))\n",
    "model.add(Dense(1, activation=ACTIVATION))\n",
    "\n",
    "for k in range(len(LR)):\n",
    "    fig, plots = plt.subplots(2, 5)\n",
    "    fig.suptitle('LR = ' + str(LR[k]))\n",
    "    for i in range(2):\n",
    "        for j in range(5):\n",
    "            model.compile(loss='mean_squared_error',\n",
    "                          optimizer=optimizers.gradient_descent_v2.SGD(\n",
    "                              learning_rate=LR[k],\n",
    "                              momentum=MOMENTUUM),\n",
    "                          metrics=None)\n",
    "\n",
    "            history = model.fit(training_data,\n",
    "                                target_data,\n",
    "                                shuffle=SHUFFLE,\n",
    "                                epochs=EPOCHS,\n",
    "                                verbose=None)\n",
    "\n",
    "            # print(model.predict(training_data).round())\n",
    "\n",
    "            plots[i, j].plot(history.history['loss'], 'o')\n",
    "            plots[i, j].plot([LOSS_TARGET for i in range(EPOCHS)], 'o')\n",
    "            # plt.savefig('last.png')\n",
    "\n",
    "    plt.show()\n"
   ]
  }
 ],
 "metadata": {
  "interpreter": {
   "hash": "21d5e0349dd4088d7886e9913d8e7806ba0ad12223998a77838c11d913fd62a0"
  },
  "kernelspec": {
   "display_name": "Python 3.9.7 64-bit ('venv': venv)",
   "language": "python",
   "name": "python3"
  },
  "language_info": {
   "codemirror_mode": {
    "name": "ipython",
    "version": 3
   },
   "file_extension": ".py",
   "mimetype": "text/x-python",
   "name": "python",
   "nbconvert_exporter": "python",
   "pygments_lexer": "ipython3",
   "version": "3.9.7"
  },
  "orig_nbformat": 4
 },
 "nbformat": 4,
 "nbformat_minor": 2
}
