{
 "cells": [
  {
   "cell_type": "code",
   "execution_count": 1,
   "metadata": {},
   "outputs": [],
   "source": [
    "import random as rnd\n",
    "\n",
    "\n",
    "class GeneticAlgorithms:\n",
    "    def geneticAlgorithm(problem, population, fitnessFunction, mutationProbability=0.1, iterations=100):\n",
    "        iteration = 0\n",
    "        while True:\n",
    "            iteration += 1\n",
    "\n",
    "            newPopulation = []\n",
    "            for i in range(0, len(population)):\n",
    "                x = GeneticAlgorithms.roulleteSelection(population, fitnessFunction)\n",
    "                y = GeneticAlgorithms.roulleteSelection(population, fitnessFunction)\n",
    "\n",
    "                child = problem.reproduce(x, y)\n",
    "                if rnd.random() < mutationProbability:\n",
    "                    child = GeneticAlgorithms.mutate(child)\n",
    "\n",
    "                # newPopulationLength = len(newPopulation)\n",
    "                newPopulation.append(child)\n",
    "                # newPopulation = np.reshape(newPopulation, (newPopulationLength+1, len(child)))\n",
    "\n",
    "            population = newPopulation\n",
    "\n",
    "            print([fitnessFunction(element) for element in population]) #! debug\n",
    "\n",
    "            if iteration > iterations:\n",
    "                break\n",
    "\n",
    "        bestChild = GeneticAlgorithms.bestSelection(population, fitnessFunction)\n",
    "        problem.printState(bestChild, 'Genetic Algorithm')\n",
    "        # return bestChild\n",
    "\n",
    "    def roulleteSelection(population: list, fitnessFunction):\n",
    "        rnd.shuffle(population)  # Shuffle population\n",
    "\n",
    "        chance = rnd.randint(0, sum([fitnessFunction(element) for element in population]))\n",
    "        for element in population:\n",
    "            chance -= fitnessFunction(element)\n",
    "            if chance <= 0:\n",
    "                return element\n",
    "\n",
    "    def mutate(child):\n",
    "        mutatedChild = child.copy()\n",
    "        childLength = len(child)\n",
    "\n",
    "        # Swap two random elements\n",
    "        i = rnd.randint(0, childLength - 1)\n",
    "        j = rnd.randint(0, childLength - 1)\n",
    "        while i == j:\n",
    "            j = rnd.randint(0, childLength - 1)\n",
    "\n",
    "        mutatedChild[i], mutatedChild[j] = mutatedChild[j], mutatedChild[i]\n",
    "\n",
    "        return mutatedChild\n",
    "\n",
    "    def bestSelection(population: list, fitnessFunction):\n",
    "        rnd.shuffle(population)  # Shuffle population\n",
    "        return max(population, key=fitnessFunction)\n"
   ]
  },
  {
   "cell_type": "code",
   "execution_count": 2,
   "metadata": {},
   "outputs": [
    {
     "name": "stdout",
     "output_type": "stream",
     "text": [
      "[(0, 48), (17, 17), (14, 55), (99, 51), (92, 20)]\n"
     ]
    },
    {
     "data": {
      "image/png": "[encoded data removed]",
      "text/plain": [
       "<Figure size 432x288 with 1 Axes>"
      ]
     },
     "metadata": {
      "needs_background": "light"
     },
     "output_type": "display_data"
    },
    {
     "name": "stdout",
     "output_type": "stream",
     "text": [
      "[276, 347, 253, 276, 276, 276, 343, 368, 387, 255, 387, 276, 383, 368, 409, 409, 262, 273, 383, 253, 383, 255, 253, 262, 383, 347, 387, 347, 347, 276, 276, 347, 383, 368, 347, 409, 368, 368, 276, 255, 273, 383, 343, 262, 253, 273, 383, 409, 387, 244, 343, 368, 343, 276, 343, 244, 347, 368, 262, 273, 409, 255, 244, 255, 409, 347, 347, 368, 409, 255, 255, 368, 387, 343, 244, 255, 255, 383, 276, 262, 347, 368, 255, 347, 262, 262, 387, 253, 262, 244, 409, 276, 383, 368, 368, 262, 409, 262, 347, 255]\n"
     ]
    }
   ],
   "source": [
    "from TravellingSalesman import TravellingSalesman\n",
    "ts = TravellingSalesman(5)\n",
    "GeneticAlgorithms.geneticAlgorithm(ts, ts.population(), ts.fitnessFunction)\n"
   ]
  },
  {
   "cell_type": "code",
   "execution_count": null,
   "metadata": {},
   "outputs": [],
   "source": [
    "from NQueens import NQueens\n",
    "nq = NQueens(8)\n",
    "GeneticAlgorithms.geneticAlgorithm(nq, nq.population(), nq.fitnessFunction)\n"
   ]
  }
 ],
 "metadata": {
  "interpreter": {
   "hash": "21d5e0349dd4088d7886e9913d8e7806ba0ad12223998a77838c11d913fd62a0"
  },
  "kernelspec": {
   "display_name": "Python 3.9.7 64-bit ('venv': venv)",
   "language": "python",
   "name": "python3"
  },
  "language_info": {
   "codemirror_mode": {
    "name": "ipython",
    "version": 3
   },
   "file_extension": ".py",
   "mimetype": "text/x-python",
   "name": "python",
   "nbconvert_exporter": "python",
   "pygments_lexer": "ipython3",
   "version": "3.9.7"
  },
  "orig_nbformat": 4
 },
 "nbformat": 4,
 "nbformat_minor": 2
}
