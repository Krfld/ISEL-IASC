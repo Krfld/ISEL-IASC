{
 "cells": [
  {
   "cell_type": "code",
   "execution_count": 1,
   "metadata": {},
   "outputs": [],
   "source": [
    "import math\n",
    "import numpy as np\n",
    "import random as rnd\n",
    "import matplotlib.pyplot as plt\n"
   ]
  },
  {
   "cell_type": "code",
   "execution_count": null,
   "metadata": {},
   "outputs": [],
   "source": [
    "class GeneticAlgorithms:\n",
    "    def geneticAlgorithm(population, fitnessFunction, mutationProbability=0.01):\n",
    "        newPopulation = np.array([])\n",
    "\n",
    "        while True:\n",
    "            for i in range(0, len(population)):\n",
    "                x = GeneticAlgorithms.randomSelection(population, fitnessFunction)\n",
    "                y = GeneticAlgorithms.randomSelection(population, fitnessFunction)\n",
    "\n",
    "                child = GeneticAlgorithms.reproduce(x, y) if not (rnd.random() < mutationProbability) else GeneticAlgorithms.mutate(child)\n",
    "\n",
    "                newPopulation = np.append(newPopulation, child)  # ! Fix flat append\n",
    "\n",
    "            population = newPopulation\n",
    "\n",
    "            if done:\n",
    "                return GeneticAlgorithms.bestSelection(population, fitnessFunction)\n",
    "\n",
    "    def randomSelection(population, fitnessFunction):\n",
    "        np.random.shuffle(population)  # Shuffle population\n",
    "        \n",
    "        chance = rnd.randint(0, np.sum([fitnessFunction(element) for element in population]))\n",
    "        for element in population:\n",
    "            chance -= fitnessFunction(element)\n",
    "            if chance <= 0:\n",
    "                return element\n",
    "\n",
    "    def reproduce(x, y):\n",
    "        c = rnd.randint(1, len(x)-1)\n",
    "        return np.array(x[:c] + y[c:])\n",
    "\n",
    "    def mutate(child):\n",
    "        mutatedChild = child.copy()\n",
    "        childLength = len(child)\n",
    "\n",
    "        # Swap two random elements\n",
    "        i = rnd.randint(0, childLength - 1)\n",
    "        j = rnd.randint(0, childLength - 1)\n",
    "        while i == j:\n",
    "            j = rnd.randint(0, childLength - 1)\n",
    "\n",
    "        mutatedChild[i], mutatedChild[j] = mutatedChild[j], mutatedChild[i]\n",
    "\n",
    "        return mutatedChild\n",
    "\n",
    "    def bestSelection(population, fitnessFunction):\n",
    "        np.random.shuffle(population)  # Shuffle population\n",
    "\n",
    "        return max(population, key=fitnessFunction)\n"
   ]
  }
 ],
 "metadata": {
  "interpreter": {
   "hash": "21d5e0349dd4088d7886e9913d8e7806ba0ad12223998a77838c11d913fd62a0"
  },
  "kernelspec": {
   "display_name": "Python 3.9.7 64-bit ('venv': venv)",
   "language": "python",
   "name": "python3"
  },
  "language_info": {
   "codemirror_mode": {
    "name": "ipython",
    "version": 3
   },
   "file_extension": ".py",
   "mimetype": "text/x-python",
   "name": "python",
   "nbconvert_exporter": "python",
   "pygments_lexer": "ipython3",
   "version": "3.9.7"
  },
  "orig_nbformat": 4
 },
 "nbformat": 4,
 "nbformat_minor": 2
}
