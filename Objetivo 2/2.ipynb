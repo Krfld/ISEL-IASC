{
 "cells": [
  {
   "cell_type": "code",
   "execution_count": null,
   "metadata": {},
   "outputs": [],
   "source": [
    "import math\n",
    "import numpy as np\n",
    "import random as rnd\n",
    "import matplotlib.pyplot as plt\n"
   ]
  },
  {
   "cell_type": "code",
   "execution_count": null,
   "metadata": {},
   "outputs": [],
   "source": [
    "class GeneticAlgorithms:\n",
    "    def geneticAlgorithm(population, fitnessFunction, mutationProbability=0.01):\n",
    "        newPopulation = np.array([])\n",
    "\n",
    "        while True:\n",
    "            for i in range(0, len(population)):\n",
    "                x = randomSelection(population, fitnessFunction)\n",
    "                y = randomSelection(population, fitnessFunction)\n",
    "                child = GeneticAlgorithms.reproduce(x, y)\n",
    "\n",
    "                if rnd.random() < mutationProbability:\n",
    "                    child = mutate(child)\n",
    "                    newPopulation = np.append(newPopulation, child)  # ! Fix flat append\n",
    "\n",
    "            population = newPopulation\n",
    "\n",
    "            if done:\n",
    "                return bestSelection(population, fitnessFunction)\n",
    "\n",
    "    def randomSelection(population, fitnessFunction):\n",
    "        pass\n",
    "\n",
    "    def reproduce(x, y):\n",
    "        c = rnd.randint(1, len(x)-1)\n",
    "        return np.array(x[:c] + y[c:])\n",
    "\n",
    "    def mutate(child):\n",
    "        pass\n",
    "\n",
    "    def bestSelection(population, fitnessFunction):\n",
    "        pass\n"
   ]
  }
 ],
 "metadata": {
  "language_info": {
   "name": "python"
  },
  "orig_nbformat": 4
 },
 "nbformat": 4,
 "nbformat_minor": 2
}
