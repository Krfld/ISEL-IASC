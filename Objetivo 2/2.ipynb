{
 "cells": [
  {
   "cell_type": "code",
   "execution_count": null,
   "metadata": {},
   "outputs": [],
   "source": [
    "import random as rnd\n",
    "\n",
    "class GeneticAlgorithms:\n",
    "    def geneticAlgorithm(problem, population, fitnessFunction, mutationProbability=0.05, iterations=200):\n",
    "        iteration = 0\n",
    "        while True:\n",
    "            iteration += 1\n",
    "\n",
    "            newPopulation = []\n",
    "            for i in range(0, len(population)):\n",
    "                x = GeneticAlgorithms.randomSelection(population, fitnessFunction)\n",
    "                y = GeneticAlgorithms.randomSelection(population, fitnessFunction)\n",
    "\n",
    "                child = problem.reproduce(x, y)\n",
    "                if rnd.random() < mutationProbability:\n",
    "                    child = GeneticAlgorithms.mutate(child)\n",
    "\n",
    "                # newPopulationLength = len(newPopulation)\n",
    "                newPopulation.append(child)\n",
    "                # newPopulation = np.reshape(newPopulation, (newPopulationLength+1, len(child)))\n",
    "\n",
    "            population = newPopulation\n",
    "\n",
    "            if iteration > iterations:\n",
    "                break\n",
    "\n",
    "        bestChild = GeneticAlgorithms.bestSelection(population, fitnessFunction)\n",
    "        problem.printState(bestChild, 'Genetic Algorithm')\n",
    "        # return bestChild\n",
    "\n",
    "    def randomSelection(population: list, fitnessFunction):\n",
    "        rnd.shuffle(population)  # Shuffle population\n",
    "\n",
    "        chance = rnd.randint(0, sum([fitnessFunction(element) for element in population]))\n",
    "        for element in population:\n",
    "            chance -= fitnessFunction(element)\n",
    "            if chance <= 0:\n",
    "                return element\n",
    "\n",
    "    def mutate(child):\n",
    "        mutatedChild = child.copy()\n",
    "        childLength = len(child)\n",
    "\n",
    "        # Swap two random elements\n",
    "        i = rnd.randint(0, childLength - 1)\n",
    "        j = rnd.randint(0, childLength - 1)\n",
    "        while i == j:\n",
    "            j = rnd.randint(0, childLength - 1)\n",
    "\n",
    "        mutatedChild[i], mutatedChild[j] = mutatedChild[j], mutatedChild[i]\n",
    "\n",
    "        return mutatedChild\n",
    "\n",
    "    def bestSelection(population: list, fitnessFunction):\n",
    "        rnd.shuffle(population)  # Shuffle population\n",
    "        return max(population, key=fitnessFunction)\n"
   ]
  },
  {
   "cell_type": "code",
   "execution_count": null,
   "metadata": {},
   "outputs": [],
   "source": [
    "from TravellingSalesman import TravellingSalesman\n",
    "ts = TravellingSalesman(5)\n",
    "GeneticAlgorithms.geneticAlgorithm(ts, ts.population(), ts.fitnessFunction)\n"
   ]
  },
  {
   "cell_type": "code",
   "execution_count": null,
   "metadata": {},
   "outputs": [],
   "source": [
    "from NQueens import NQueens\n",
    "nq = NQueens(5)\n",
    "GeneticAlgorithms.geneticAlgorithm(nq, nq.population(), nq.fitnessFunction)\n"
   ]
  }
 ],
 "metadata": {
  "interpreter": {
   "hash": "21d5e0349dd4088d7886e9913d8e7806ba0ad12223998a77838c11d913fd62a0"
  },
  "kernelspec": {
   "display_name": "Python 3.9.7 64-bit ('venv': venv)",
   "language": "python",
   "name": "python3"
  },
  "language_info": {
   "codemirror_mode": {
    "name": "ipython",
    "version": 3
   },
   "file_extension": ".py",
   "mimetype": "text/x-python",
   "name": "python",
   "nbconvert_exporter": "python",
   "pygments_lexer": "ipython3",
   "version": "3.9.7"
  },
  "orig_nbformat": 4
 },
 "nbformat": 4,
 "nbformat_minor": 2
}
