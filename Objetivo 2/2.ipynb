{
 "cells": [
  {
   "cell_type": "code",
   "execution_count": null,
   "metadata": {},
   "outputs": [],
   "source": [
    "import math\n",
    "import numpy as np\n",
    "import random as rnd\n",
    "import matplotlib.pyplot as plt\n"
   ]
  },
  {
   "cell_type": "code",
   "execution_count": null,
   "metadata": {},
   "outputs": [],
   "source": [
    "class GeneticAlgorithms:\n",
    "    def geneticAlgorithm(population, fitnessFunction, mutationProbability=0.01):\n",
    "        newPopulation = np.array([])\n",
    "\n",
    "        while True:\n",
    "            for i in range(0, len(population)):\n",
    "                x = randomSelection(population, fitnessFunction)\n",
    "                y = randomSelection(population, fitnessFunction)\n",
    "\n",
    "                child = GeneticAlgorithms.reproduce(x, y) if not (rnd.random() < mutationProbability) else mutate(child)\n",
    "\n",
    "                newPopulation = np.append(newPopulation, child)  # ! Fix flat append\n",
    "\n",
    "            population = newPopulation\n",
    "\n",
    "            if done:\n",
    "                return bestSelection(population, fitnessFunction)\n",
    "\n",
    "    def randomSelection(population, fitnessFunction):\n",
    "        pass\n",
    "\n",
    "    def reproduce(x, y):\n",
    "        c = rnd.randint(1, len(x)-1)\n",
    "        return np.array(x[:c] + y[c:])\n",
    "\n",
    "    def mutate(child):\n",
    "        mutatedChild = child.copy()\n",
    "        childLength = len(child)\n",
    "\n",
    "        # Swap two random elements\n",
    "        i = rnd.randint(0, childLength - 1)\n",
    "        j = rnd.randint(0, childLength - 1)\n",
    "        while i == j:\n",
    "            j = rnd.randint(0, childLength - 1)\n",
    "        mutatedChild[i], mutatedChild[j] = mutatedChild[j], mutatedChild[i]\n",
    "\n",
    "        return mutatedChild\n",
    "\n",
    "    def bestSelection(population, fitnessFunction):\n",
    "        pass\n"
   ]
  }
 ],
 "metadata": {
  "language_info": {
   "name": "python"
  },
  "orig_nbformat": 4
 },
 "nbformat": 4,
 "nbformat_minor": 2
}
