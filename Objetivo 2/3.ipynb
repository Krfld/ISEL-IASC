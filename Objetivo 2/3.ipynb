{
 "cells": [
  {
   "cell_type": "code",
   "execution_count": 9,
   "metadata": {},
   "outputs": [
    {
     "name": "stdout",
     "output_type": "stream",
     "text": [
      "[3, 1, 5, 1, 3]\n"
     ]
    },
    {
     "data": {
      "image/png": "[encoded data removed]",
      "text/plain": [
       "<Figure size 432x288 with 1 Axes>"
      ]
     },
     "metadata": {
      "needs_background": "light"
     },
     "output_type": "display_data"
    },
    {
     "data": {
      "image/png": "[encoded data removed]",
      "text/plain": [
       "<Figure size 432x288 with 1 Axes>"
      ]
     },
     "metadata": {
      "needs_background": "light"
     },
     "output_type": "display_data"
    },
    {
     "name": "stdout",
     "output_type": "stream",
     "text": [
      "None\n"
     ]
    }
   ],
   "source": [
    "from pygad import GA\n",
    "from NQueens import NQueens\n",
    "\n",
    "n = 5\n",
    "nq = NQueens(n)\n",
    "pop = nq.population()\n",
    "\n",
    "\n",
    "def fitFunc(element, index):\n",
    "    return nq.fitnessFunction(element)\n",
    "\n",
    "\n",
    "ga = GA(num_generations=len(pop),\n",
    "        num_parents_mating=2,\n",
    "        num_genes=n,\n",
    "        initial_population=pop,\n",
    "        fitness_func=fitFunc,\n",
    "        parent_selection_type='rws',  # roullete\n",
    "        crossover_type='single_point',\n",
    "        crossover_probability=1,\n",
    "        mutation_type='random',\n",
    "        mutation_probability=0.1,\n",
    "        gene_type=int,\n",
    "        gene_space=range(1, n+1),\n",
    "        allow_duplicate_genes=True,\n",
    "        stop_criteria='reach_1'\n",
    "        )\n",
    "\n",
    "ga.run()\n",
    "# ga.plot_fitness()\n",
    "print(nq.printState(ga.best_solution()[0]))\n"
   ]
  },
  {
   "cell_type": "code",
   "execution_count": 10,
   "metadata": {},
   "outputs": [
    {
     "name": "stdout",
     "output_type": "stream",
     "text": [
      "[(97, 6), (90, 99), (29, 98), (67, 56), (47, 13)]\n"
     ]
    },
    {
     "data": {
      "image/png": "[encoded data removed]",
      "text/plain": [
       "<Figure size 432x288 with 1 Axes>"
      ]
     },
     "metadata": {
      "needs_background": "light"
     },
     "output_type": "display_data"
    },
    {
     "ename": "ValueError",
     "evalue": "A 2D list is expected to the initail_population parameter but a (3-D) list found.",
     "output_type": "error",
     "traceback": [
      "\u001b[1;31m---------------------------------------------------------------------------\u001b[0m",
      "\u001b[1;31mValueError\u001b[0m                                Traceback (most recent call last)",
      "\u001b[1;32m~\\AppData\\Local\\Temp/ipykernel_117460/1834275434.py\u001b[0m in \u001b[0;36m<module>\u001b[1;34m\u001b[0m\n\u001b[0;32m     11\u001b[0m \u001b[1;33m\u001b[0m\u001b[0m\n\u001b[0;32m     12\u001b[0m \u001b[1;31m# https://pygad.readthedocs.io/en/latest/README_pygad_ReadTheDocs.html#crossover-mutation-and-parent-selection\u001b[0m\u001b[1;33m\u001b[0m\u001b[1;33m\u001b[0m\u001b[0m\n\u001b[1;32m---> 13\u001b[1;33m ga = GA(num_generations=len(pop),\n\u001b[0m\u001b[0;32m     14\u001b[0m         \u001b[0mnum_parents_mating\u001b[0m\u001b[1;33m=\u001b[0m\u001b[1;36m2\u001b[0m\u001b[1;33m,\u001b[0m\u001b[1;33m\u001b[0m\u001b[1;33m\u001b[0m\u001b[0m\n\u001b[0;32m     15\u001b[0m         \u001b[0mnum_genes\u001b[0m\u001b[1;33m=\u001b[0m\u001b[0mn\u001b[0m\u001b[1;33m,\u001b[0m\u001b[1;33m\u001b[0m\u001b[1;33m\u001b[0m\u001b[0m\n",
      "\u001b[1;32md:\\VSCode\\Python\\venv\\lib\\site-packages\\pygad\\pygad.py\u001b[0m in \u001b[0;36m__init__\u001b[1;34m(self, num_generations, num_parents_mating, fitness_func, initial_population, sol_per_pop, num_genes, init_range_low, init_range_high, gene_type, parent_selection_type, keep_parents, K_tournament, crossover_type, crossover_probability, mutation_type, mutation_probability, mutation_by_replacement, mutation_percent_genes, mutation_num_genes, random_mutation_min_val, random_mutation_max_val, gene_space, allow_duplicate_genes, on_start, on_fitness, on_parents, on_crossover, on_mutation, callback_generation, on_generation, on_stop, delay_after_gen, save_best_solutions, save_solutions, suppress_warnings, stop_criteria)\u001b[0m\n\u001b[0;32m    288\u001b[0m         \u001b[1;32melif\u001b[0m \u001b[0mnumpy\u001b[0m\u001b[1;33m.\u001b[0m\u001b[0marray\u001b[0m\u001b[1;33m(\u001b[0m\u001b[0minitial_population\u001b[0m\u001b[1;33m)\u001b[0m\u001b[1;33m.\u001b[0m\u001b[0mndim\u001b[0m \u001b[1;33m!=\u001b[0m \u001b[1;36m2\u001b[0m\u001b[1;33m:\u001b[0m\u001b[1;33m\u001b[0m\u001b[1;33m\u001b[0m\u001b[0m\n\u001b[0;32m    289\u001b[0m             \u001b[0mself\u001b[0m\u001b[1;33m.\u001b[0m\u001b[0mvalid_parameters\u001b[0m \u001b[1;33m=\u001b[0m \u001b[1;32mFalse\u001b[0m\u001b[1;33m\u001b[0m\u001b[1;33m\u001b[0m\u001b[0m\n\u001b[1;32m--> 290\u001b[1;33m             \u001b[1;32mraise\u001b[0m \u001b[0mValueError\u001b[0m\u001b[1;33m(\u001b[0m\u001b[1;34m\"A 2D list is expected to the initail_population parameter but a ({initial_population_ndim}-D) list found.\"\u001b[0m\u001b[1;33m.\u001b[0m\u001b[0mformat\u001b[0m\u001b[1;33m(\u001b[0m\u001b[0minitial_population_ndim\u001b[0m\u001b[1;33m=\u001b[0m\u001b[0mnumpy\u001b[0m\u001b[1;33m.\u001b[0m\u001b[0marray\u001b[0m\u001b[1;33m(\u001b[0m\u001b[0minitial_population\u001b[0m\u001b[1;33m)\u001b[0m\u001b[1;33m.\u001b[0m\u001b[0mndim\u001b[0m\u001b[1;33m)\u001b[0m\u001b[1;33m)\u001b[0m\u001b[1;33m\u001b[0m\u001b[1;33m\u001b[0m\u001b[0m\n\u001b[0m\u001b[0;32m    291\u001b[0m         \u001b[1;32melse\u001b[0m\u001b[1;33m:\u001b[0m\u001b[1;33m\u001b[0m\u001b[1;33m\u001b[0m\u001b[0m\n\u001b[0;32m    292\u001b[0m             \u001b[1;31m# Forcing the initial_population array to have the data type assigned to the gene_type parameter.\u001b[0m\u001b[1;33m\u001b[0m\u001b[1;33m\u001b[0m\u001b[0m\n",
      "\u001b[1;31mValueError\u001b[0m: A 2D list is expected to the initail_population parameter but a (3-D) list found."
     ]
    }
   ],
   "source": [
    "from pygad import GA\n",
    "from TravellingSalesman import TravellingSalesman\n",
    "\n",
    "n = 5\n",
    "ts = TravellingSalesman(n)\n",
    "pop = ts.population()\n",
    "\n",
    "def fitFunc(element, index):\n",
    "    return ts.fitnessFunction(element)\n",
    "\n",
    "\n",
    "ga = GA(num_generations=len(pop),\n",
    "        num_parents_mating=2,\n",
    "        num_genes=n,\n",
    "        initial_population=pop,\n",
    "        fitness_func=fitFunc,\n",
    "        parent_selection_type='rws',  # roullete\n",
    "        crossover_type='single_point',\n",
    "        crossover_probability=1,\n",
    "        mutation_type='swap',\n",
    "        mutation_probability=1,\n",
    "        allow_duplicate_genes=False,\n",
    "        stop_criteria='reach_1'\n",
    "        )\n",
    "\n",
    "ga.run()\n",
    "ga.plot_fitness()\n"
   ]
  }
 ],
 "metadata": {
  "interpreter": {
   "hash": "21d5e0349dd4088d7886e9913d8e7806ba0ad12223998a77838c11d913fd62a0"
  },
  "kernelspec": {
   "display_name": "Python 3.9.7 64-bit ('venv': venv)",
   "language": "python",
   "name": "python3"
  },
  "language_info": {
   "codemirror_mode": {
    "name": "ipython",
    "version": 3
   },
   "file_extension": ".py",
   "mimetype": "text/x-python",
   "name": "python",
   "nbconvert_exporter": "python",
   "pygments_lexer": "ipython3",
   "version": "3.9.7"
  },
  "orig_nbformat": 4
 },
 "nbformat": 4,
 "nbformat_minor": 2
}
