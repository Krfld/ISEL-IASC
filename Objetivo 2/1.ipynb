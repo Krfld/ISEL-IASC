{
 "cells": [
  {
   "cell_type": "code",
   "execution_count": null,
   "metadata": {},
   "outputs": [],
   "source": [
    "import math\n",
    "import random as rnd\n",
    "from numpy import array_equal\n",
    "\n",
    "\n",
    "class SearchAlgorithms:\n",
    "    def stochasticHillClimbing(problem, stuckIterations=10):\n",
    "        current = problem.initialState()\n",
    "        oldNeighbor = current.copy()\n",
    "        stuck = 0\n",
    "        while True:\n",
    "            # Obtain best neighbor state from current one\n",
    "            neighbor = problem.bestNeighbor(current)\n",
    "            # print(neighbor, current, '|', problem.stateValue(neighbor), problem.stateValue(current))\n",
    "\n",
    "            # Check if it's stuck in an infinite loop\n",
    "            if array_equal(neighbor, oldNeighbor):\n",
    "                stuck += 1\n",
    "            else:\n",
    "                stuck = 0\n",
    "\n",
    "            # Return state if it's stuck in a maximum (local or global) or in a loop\n",
    "            if problem.stateValue(neighbor) < problem.stateValue(current) or stuck > stuckIterations:\n",
    "                # problem.printState(current)\n",
    "                return current\n",
    "\n",
    "            oldNeighbor = current.copy()\n",
    "            current = neighbor.copy()\n",
    "\n",
    "    def hillClimbingWithRandomRestart(problem, iterations=25):\n",
    "        bestSolution = SearchAlgorithms.stochasticHillClimbing(problem)\n",
    "        bestValue = problem.stateValue(bestSolution)\n",
    "        for i in range(iterations):\n",
    "            # Obtain solution from stochastic hill climbing\n",
    "            solution = SearchAlgorithms.stochasticHillClimbing(problem)\n",
    "\n",
    "            # If solution is better than the best one\n",
    "            solutionValue = problem.stateValue(solution)\n",
    "            if solutionValue > bestValue:\n",
    "                bestSolution = solution.copy()\n",
    "                bestValue = solutionValue\n",
    "\n",
    "        # Return best solution state after iterations\n",
    "        problem.printState(bestSolution, 'Hill climbing')\n",
    "        return bestSolution\n",
    "\n",
    "    def simulatedAnnealing(problem, schedule):\n",
    "        current = problem.initialState()\n",
    "        t = 0\n",
    "        while True:\n",
    "            t += 1\n",
    "            T = schedule(t)\n",
    "\n",
    "            if T <= 0:\n",
    "                problem.printState(current, 'Simulated annealing')\n",
    "                return current\n",
    "\n",
    "            neighbor = problem.randomNeighbor(current)\n",
    "            deltaE = problem.stateValue(neighbor) - problem.stateValue(current)\n",
    "\n",
    "            # print(deltaE, math.exp(deltaE/T), T)\n",
    "            if deltaE > 0 or rnd.random() <= math.exp(deltaE/T):\n",
    "                current = neighbor.copy()\n",
    "\n",
    "    def schedule(time):\n",
    "        T0 = 100\n",
    "        alpha = 0.99\n",
    "        return T0 * alpha ** time\n"
   ]
  },
  {
   "cell_type": "code",
   "execution_count": null,
   "metadata": {},
   "outputs": [],
   "source": [
    "from NQueens import NQueens\n",
    "nq = NQueens(8)\n",
    "SearchAlgorithms.hillClimbingWithRandomRestart(nq)\n",
    "SearchAlgorithms.simulatedAnnealing(nq, SearchAlgorithms.schedule)\n"
   ]
  },
  {
   "cell_type": "code",
   "execution_count": null,
   "metadata": {},
   "outputs": [],
   "source": [
    "from TravellingSalesman import TravellingSalesman\n",
    "ts = TravellingSalesman(20)\n",
    "SearchAlgorithms.hillClimbingWithRandomRestart(ts)\n",
    "SearchAlgorithms.simulatedAnnealing(ts, SearchAlgorithms.schedule)\n"
   ]
  }
 ],
 "metadata": {
  "interpreter": {
   "hash": "21d5e0349dd4088d7886e9913d8e7806ba0ad12223998a77838c11d913fd62a0"
  },
  "kernelspec": {
   "display_name": "Python 3.9.7 64-bit ('venv': venv)",
   "language": "python",
   "name": "python3"
  },
  "language_info": {
   "codemirror_mode": {
    "name": "ipython",
    "version": 3
   },
   "file_extension": ".py",
   "mimetype": "text/x-python",
   "name": "python",
   "nbconvert_exporter": "python",
   "pygments_lexer": "ipython3",
   "version": "3.9.7"
  },
  "orig_nbformat": 4
 },
 "nbformat": 4,
 "nbformat_minor": 2
}
