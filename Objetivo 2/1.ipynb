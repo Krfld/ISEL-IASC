{
 "cells": [
  {
   "cell_type": "code",
   "execution_count": 132,
   "metadata": {},
   "outputs": [],
   "source": [
    "import math\n",
    "import numpy as np\n",
    "import random as rnd\n",
    "import matplotlib.pyplot as plt"
   ]
  },
  {
   "cell_type": "code",
   "execution_count": 133,
   "metadata": {},
   "outputs": [],
   "source": [
    "class SearchAlgorithms:\n",
    "    def stochasticHillClimbing(problem, stuckIterations=10):\n",
    "        current = problem.initialState()\n",
    "        oldNeighbor = current.copy()\n",
    "\n",
    "        stuck = 0\n",
    "        while True:\n",
    "            neighbor = problem.bestNeighbor(current)  # Obtain best neighbor state from current one\n",
    "            # print(neighbor, current, '|', problem.stateValue(neighbor), problem.stateValue(current))\n",
    "\n",
    "            # Check if it's stuck in an infinite loop\n",
    "            if np.array_equal(neighbor, oldNeighbor):\n",
    "                stuck += 1\n",
    "            else:\n",
    "                stuck = 0\n",
    "\n",
    "            # Return state if it's stuck in a local maximum or in a loop\n",
    "            if problem.stateValue(neighbor) < problem.stateValue(current) or stuck > stuckIterations:\n",
    "                # print(current, problem.stateValue(current))\n",
    "                return current\n",
    "\n",
    "            oldNeighbor = current.copy()\n",
    "            current = neighbor.copy()\n",
    "\n",
    "    def hillClimbingWithRandomRestart(problem):\n",
    "        solution = None\n",
    "\n",
    "        while True:\n",
    "            # Obtain solution from stochastic hill climbing\n",
    "            solution = SearchAlgorithms.stochasticHillClimbing(problem)\n",
    "            # Return solution state if it's in a global maximum\n",
    "            if problem.stateValue(solution) == problem.maxValue:\n",
    "                print('Solution state:', solution, '|', problem.stateValue(solution))\n",
    "                return solution\n",
    "\n",
    "    def simulatedAnnealing(problem, schedule):\n",
    "        current = problem.initialState()\n",
    "        t = 0\n",
    "\n",
    "        while True:\n",
    "            t += 1\n",
    "            T = schedule(t)\n",
    "\n",
    "            if T == 0:\n",
    "                return current\n",
    "\n",
    "            neighbor = problem.randomNeighbor(current)\n",
    "            deltaE = problem.stateValue(neighbor) - problem.stateValue(current)\n",
    "\n",
    "            if deltaE > 0 or rnd.random() <= math.exp(deltaE/T):\n",
    "                current = neighbor.copy()"
   ]
  },
  {
   "cell_type": "code",
   "execution_count": 134,
   "metadata": {},
   "outputs": [],
   "source": [
    "class NQueens:\n",
    "    def __init__(self, N):\n",
    "        self.N = N\n",
    "        self.maxValue = 0\n",
    "        # self.state = np.array([i for i in range(1, self.N+1)])\n",
    "        # np.random.shuffle(self.state)\n",
    "        self.state = np.array([rnd.randint(1, self.N) for i in range(self.N)])\n",
    "        print('Start state:', self.state)\n",
    "\n",
    "    def initialState(self):\n",
    "        return self.state\n",
    "\n",
    "    def randomNeighbor(self, state):\n",
    "        col = rnd.randint(0, self.N-1)\n",
    "        row = state[col]\n",
    "        newRow = rnd.randint(1, self.N)\n",
    "\n",
    "        while newRow == row:\n",
    "            newRow = rnd.randint(1, self.N)\n",
    "\n",
    "        state[col] = newRow\n",
    "        return state\n",
    "\n",
    "    def bestNeighbor(self, state):\n",
    "        bestState = state.copy()\n",
    "        bestState[0] = self.N+1 - bestState[0]  # Change the first queen\n",
    "        bestValue = self.stateValue(bestState)\n",
    "\n",
    "        cols = np.array([i for i in range(self.N)])\n",
    "        np.random.shuffle(cols)\n",
    "\n",
    "        for col in cols:\n",
    "            newState = state.copy()\n",
    "            for row in range(1, self.N+1):\n",
    "                if row != state[col]:\n",
    "                    newState[col] = row\n",
    "                    newValue = self.stateValue(newState)\n",
    "                    if newValue >= bestValue:\n",
    "                        bestState = newState.copy()\n",
    "                        bestValue = newValue\n",
    "\n",
    "        return bestState\n",
    "\n",
    "    def stateValue(self, state):\n",
    "        value = 0\n",
    "\n",
    "        for i in range(self.N - 1):\n",
    "            for j in range(i+1, self.N):\n",
    "                if state[j] == state[i] or abs(state[j] - state[i]) == j - i:\n",
    "                    value += 1\n",
    "\n",
    "        value *= -1\n",
    "        return value"
   ]
  },
  {
   "cell_type": "code",
   "execution_count": 135,
   "metadata": {},
   "outputs": [],
   "source": [
    "class TravellingSalesman:\n",
    "    def __init__(self, N, size=100):\n",
    "        self.N = N\n",
    "        self.state = []\n",
    "\n",
    "        for i in range(N):\n",
    "            # Check that every city is different\n",
    "            city = (rnd.randint(0, size), rnd.randint(0, size))\n",
    "            while city in self.state:\n",
    "                city = (rnd.randint(0, size), rnd.randint(0, size))\n",
    "\n",
    "            self.state.append(city)\n",
    "\n",
    "        print('Start state:', self.state)\n",
    "\n",
    "        plt.plot(*zip(*self.state), 'o-')\n",
    "        for i in range(self.N):\n",
    "            plt.annotate(i+1, (self.state[i][0], self.state[i][1]))\n",
    "        plt.show()\n",
    "\n",
    "    def initialState(self):\n",
    "        return self.state\n",
    "\n",
    "    def distanceBetweenCities(self, city1, city2):\n",
    "        return math.sqrt((city1[0] - city2[0])**2 + (city1[1] - city2[1])**2)\n",
    "\n",
    "    def randomNeighbor(self, state):\n",
    "        return\n",
    "\n",
    "    def bestNeighbor(self, state):\n",
    "        return\n",
    "\n",
    "    def stateValue(self, state):\n",
    "        distance = 0\n",
    "        for i in range(self.N-1):\n",
    "            distance += self.distanceBetweenCities(state[i], state[i+1])\n",
    "        return distance\n"
   ]
  },
  {
   "cell_type": "code",
   "execution_count": 168,
   "metadata": {},
   "outputs": [
    {
     "name": "stdout",
     "output_type": "stream",
     "text": [
      "Start state: [(14, 18), (40, 32), (65, 3), (48, 10), (73, 12), (29, 98), (81, 7), (52, 39), (83, 69), (86, 56)]\n"
     ]
    },
    {
     "data": {
      "image/png": "[encoded data removed]",
      "text/plain": [
       "<Figure size 432x288 with 1 Axes>"
      ]
     },
     "metadata": {
      "needs_background": "light"
     },
     "output_type": "display_data"
    },
    {
     "name": "stdout",
     "output_type": "stream",
     "text": [
      "412.3609214589377\n"
     ]
    }
   ],
   "source": [
    "if __name__ == '__main__':\n",
    "\tx = TravellingSalesman(10)\n",
    "\tprint(x.stateValue(x.initialState()))\n",
    "\t# SearchAlgorithms.hillClimbingWithRandomRestart(NQueens(20))"
   ]
  }
 ],
 "metadata": {
  "interpreter": {
   "hash": "21d5e0349dd4088d7886e9913d8e7806ba0ad12223998a77838c11d913fd62a0"
  },
  "kernelspec": {
   "display_name": "Python 3.9.7 64-bit ('venv': venv)",
   "language": "python",
   "name": "python3"
  },
  "language_info": {
   "codemirror_mode": {
    "name": "ipython",
    "version": 3
   },
   "file_extension": ".py",
   "mimetype": "text/x-python",
   "name": "python",
   "nbconvert_exporter": "python",
   "pygments_lexer": "ipython3",
   "version": "3.9.7"
  },
  "orig_nbformat": 4
 },
 "nbformat": 4,
 "nbformat_minor": 2
}
