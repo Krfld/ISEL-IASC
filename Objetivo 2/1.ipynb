{
 "cells": [
  {
   "cell_type": "code",
   "execution_count": 1652,
   "metadata": {},
   "outputs": [],
   "source": [
    "import math\n",
    "import numpy as np\n",
    "import random as rnd\n",
    "import matplotlib.pyplot as plt\n"
   ]
  },
  {
   "cell_type": "code",
   "execution_count": 1653,
   "metadata": {},
   "outputs": [],
   "source": [
    "class SearchAlgorithms:\n",
    "    def stochasticHillClimbing(problem, stuckIterations=10):\n",
    "        current = problem.initialState()\n",
    "        oldNeighbor = current.copy()\n",
    "        stuck = 0\n",
    "        while True:\n",
    "            # Obtain best neighbor state from current one\n",
    "            neighbor = problem.bestNeighbor(current)\n",
    "            # print(neighbor, current, '|', problem.stateValue(neighbor), problem.stateValue(current))\n",
    "\n",
    "            # Check if it's stuck in an infinite loop\n",
    "            if np.array_equal(neighbor, oldNeighbor):\n",
    "                stuck += 1\n",
    "            else:\n",
    "                stuck = 0\n",
    "\n",
    "            # Return state if it's stuck in a maximum (local or global) or in a loop\n",
    "            if problem.stateValue(neighbor) < problem.stateValue(current) or stuck > stuckIterations:\n",
    "                # problem.printState(current)\n",
    "                return current\n",
    "\n",
    "            oldNeighbor = current.copy()\n",
    "            current = neighbor.copy()\n",
    "\n",
    "    def hillClimbingWithRandomRestart(problem, iterations=25):\n",
    "        bestSolution = SearchAlgorithms.stochasticHillClimbing(problem)\n",
    "        bestValue = problem.stateValue(bestSolution)\n",
    "        for i in range(iterations):\n",
    "            # Obtain solution from stochastic hill climbing\n",
    "            solution = SearchAlgorithms.stochasticHillClimbing(problem)\n",
    "\n",
    "            # If solution is better than the best one\n",
    "            solutionValue = problem.stateValue(solution)\n",
    "            if solutionValue > bestValue:\n",
    "                bestSolution = solution.copy()\n",
    "                bestValue = solutionValue\n",
    "\n",
    "        # Return best solution state after iterations\n",
    "        problem.printState(bestSolution, 'Solution state:')\n",
    "        return bestSolution\n",
    "\n",
    "    def simulatedAnnealing(problem, schedule):\n",
    "        current = problem.initialState()\n",
    "        t = 0\n",
    "        while True:\n",
    "            t += 1\n",
    "            T = schedule(t)\n",
    "\n",
    "            if T == 0:\n",
    "                problem.printState(current, 'Solution state:')\n",
    "                return current\n",
    "\n",
    "            neighbor = problem.randomNeighbor(current)\n",
    "            deltaE = problem.stateValue(neighbor) - problem.stateValue(current)\n",
    "\n",
    "            # print(deltaE, math.exp(deltaE/T), T)\n",
    "            if deltaE > 0 or rnd.random() <= math.exp(deltaE/T):\n",
    "                current = neighbor.copy()\n",
    "\n",
    "    def schedule(time):\n",
    "        return 100 * 0.9**time\n"
   ]
  },
  {
   "cell_type": "code",
   "execution_count": 1654,
   "metadata": {},
   "outputs": [],
   "source": [
    "class NQueens:\n",
    "    def __init__(self, N):\n",
    "        self.maxValue = 0\n",
    "        # self.state = np.array([i for i in range(1, N+1)])\n",
    "        # np.random.shuffle(self.state)\n",
    "        self.state = np.array([rnd.randint(1, N) for i in range(N)])\n",
    "        self.printState(self.state, 'Initial state:')\n",
    "\n",
    "    def printState(self, state, msg=''):\n",
    "        # print(msg, state, '|', self.stateValue(state))\n",
    "\n",
    "        # Build matrix to plot\n",
    "        board = np.array([[1 if j+1 == state[i] else 0 for j in range(len(state))] for i in range(len(state))])\n",
    "        plt.figure()\n",
    "        plt.title(msg)\n",
    "        plt.imshow(board)\n",
    "        # plt.axis(False)\n",
    "\n",
    "        plt.show()\n",
    "\n",
    "    def initialState(self):\n",
    "        # Always return the same start state\n",
    "        return self.state\n",
    "\n",
    "    def randomNeighbor(self, state):\n",
    "        col = rnd.randint(0, len(state)-1)\n",
    "        row = state[col]\n",
    "\n",
    "        newRow = rnd.randint(1, len(state))\n",
    "        while newRow == row:\n",
    "            newRow = rnd.randint(1, len(state))\n",
    "\n",
    "        state[col] = newRow\n",
    "        return state.copy()\n",
    "\n",
    "    def bestNeighbor(self, state):\n",
    "        bestState = state.copy()\n",
    "\n",
    "        # Change the first queen to guarantee that the bestState will always be different than the original state\n",
    "        bestState[0] = len(state)+1 - bestState[0]\n",
    "\n",
    "        bestValue = self.stateValue(bestState)\n",
    "\n",
    "        # Randomize order to find the best neighbor\n",
    "        cols = np.array([i for i in range(len(state))])\n",
    "        np.random.shuffle(cols)\n",
    "\n",
    "        for col in cols:\n",
    "            newState = state.copy()\n",
    "            for row in range(1, len(state)+1):\n",
    "                if row != state[col]:\n",
    "                    # Move queen\n",
    "                    newState[col] = row\n",
    "\n",
    "                    # If the new state is better than the current best\n",
    "                    newValue = self.stateValue(newState)\n",
    "                    if newValue > bestValue:\n",
    "                        bestState = newState.copy()\n",
    "                        bestValue = newValue\n",
    "\n",
    "        return bestState\n",
    "\n",
    "    def stateValue(self, state):\n",
    "        value = 0\n",
    "        for i in range(len(state) - 1):\n",
    "            for j in range(i+1, len(state)):\n",
    "                if state[j] == state[i] or abs(state[j] - state[i]) == j - i:\n",
    "                    value += 1\n",
    "\n",
    "        value *= -1\n",
    "        return value\n"
   ]
  },
  {
   "cell_type": "code",
   "execution_count": 1655,
   "metadata": {},
   "outputs": [],
   "source": [
    "class TravellingSalesman:\n",
    "    def __init__(self, N, size=100):\n",
    "        self.cities = np.array([], dtype=int)\n",
    "\n",
    "        for i in range(N):\n",
    "            # Check that every city is different\n",
    "            city = [rnd.randint(0, size), rnd.randint(0, size)]\n",
    "            while city in self.cities:\n",
    "                city = [rnd.randint(0, size), rnd.randint(0, size)]\n",
    "\n",
    "            self.cities = np.append(self.cities, city)\n",
    "            self.cities = np.reshape(self.cities, (i+1, 2))\n",
    "\n",
    "        self.printState(self.cities, 'Cities:', False)\n",
    "\n",
    "    def printState(self, state, msg='', showPath=True):\n",
    "        # print(msg, state, '|', self.stateValue(state))\n",
    "\n",
    "        plt.figure()\n",
    "        plt.title(msg)\n",
    "\n",
    "        if showPath:\n",
    "            plt.plot(*zip(*state), 'o-')\n",
    "            for i in range(len(state)-1):\n",
    "                plt.annotate(f'  {i+1}', (state[i][0], state[i][1]))\n",
    "        else:\n",
    "            plt.plot(*zip(*state), 'o')\n",
    "\n",
    "        plt.show()\n",
    "\n",
    "    def initialState(self):\n",
    "        # Always return the same cities with different order\n",
    "        np.random.shuffle(self.cities)\n",
    "\n",
    "        length = len(self.cities)\n",
    "        state = np.append(self.cities, self.cities[0])\n",
    "        state = np.reshape(state, (length+1, 2))\n",
    "\n",
    "        return state\n",
    "\n",
    "    def distanceBetweenCities(self, city1, city2):\n",
    "        # Obtain distance between two cities\n",
    "        return math.sqrt((city1[0] - city2[0])**2 + (city1[1] - city2[1])**2)\n",
    "\n",
    "    def randomNeighbor(self, state):\n",
    "        midState = state[:-1]\n",
    "\n",
    "        # Choose two random cities\n",
    "        choices = np.array([i for i in range(len(midState))])\n",
    "        np.random.shuffle(choices)\n",
    "\n",
    "        index = rnd.randint(0, len(midState) - 1)\n",
    "        city1Index = choices[index]\n",
    "        city2Index = choices[len(midState)-1 - index]\n",
    "\n",
    "        # Swap cities\n",
    "        tempCity = midState[city1Index].copy()\n",
    "        midState[city1Index] = midState[city2Index].copy()\n",
    "        midState[city2Index] = tempCity\n",
    "\n",
    "        state[len(state)-1] = state[0]\n",
    "        return state.copy()\n",
    "\n",
    "    def bestNeighbor(self, state):\n",
    "        bestState = state.copy()\n",
    "\n",
    "        bestMidState = bestState[:-1]\n",
    "\n",
    "        # Swap second two cities to guarantee that the bestState will always be different than the original state\n",
    "        tempCity = bestMidState[1].copy()\n",
    "        bestMidState[1] = bestMidState[2].copy()\n",
    "        bestMidState[2] = tempCity\n",
    "\n",
    "        bestValue = self.stateValue(bestState)\n",
    "\n",
    "        # Randomize order to find the best neighbor\n",
    "        indexes = np.array([i for i in range(len(bestMidState) - 1)])\n",
    "        np.random.shuffle(indexes)\n",
    "\n",
    "        for i in indexes:\n",
    "            for j in range(i+1, len(bestMidState)):\n",
    "                newState = state.copy()\n",
    "                newMidState = newState[:-1]\n",
    "\n",
    "                # Swap cities\n",
    "                tempCity = newMidState[i].copy()\n",
    "                newMidState[i] = newMidState[j].copy()\n",
    "                newMidState[j] = tempCity\n",
    "\n",
    "                # If new state is better than the current best\n",
    "                newState[len(newState)-1] = newState[0]\n",
    "                newValue = self.stateValue(newState)\n",
    "                if newValue > bestValue:\n",
    "                    bestState = newState.copy()\n",
    "                    bestValue = newValue\n",
    "\n",
    "        return bestState\n",
    "\n",
    "    def stateValue(self, state):\n",
    "        totalDistance = 0\n",
    "        for i in range(len(state)-1):\n",
    "            totalDistance += self.distanceBetweenCities(state[i], state[i+1])\n",
    "\n",
    "        totalDistance *= -1\n",
    "        return totalDistance\n"
   ]
  },
  {
   "cell_type": "code",
   "execution_count": 1656,
   "metadata": {},
   "outputs": [
    {
     "data": {
      "image/png": "[encoded data removed]",
      "text/plain": [
       "<Figure size 432x288 with 1 Axes>"
      ]
     },
     "metadata": {
      "needs_background": "light"
     },
     "output_type": "display_data"
    },
    {
     "data": {
      "image/png": "[encoded data removed]",
      "text/plain": [
       "<Figure size 432x288 with 1 Axes>"
      ]
     },
     "metadata": {
      "needs_background": "light"
     },
     "output_type": "display_data"
    },
    {
     "data": {
      "text/plain": [
       "array([ 8,  6,  9,  2,  5,  1,  4,  7, 10,  3])"
      ]
     },
     "execution_count": 1656,
     "metadata": {},
     "output_type": "execute_result"
    }
   ],
   "source": [
    "SearchAlgorithms.hillClimbingWithRandomRestart(NQueens(10))\n"
   ]
  },
  {
   "cell_type": "code",
   "execution_count": 1657,
   "metadata": {},
   "outputs": [
    {
     "name": "stderr",
     "output_type": "stream",
     "text": [
      "C:\\Users\\Kiko\\AppData\\Local\\Temp/ipykernel_210988/3194664306.py:8: DeprecationWarning: elementwise comparison failed; this will raise an error in the future.\n",
      "  while city in self.cities:\n"
     ]
    },
    {
     "data": {
      "image/png": "[encoded data removed]",
      "text/plain": [
       "<Figure size 432x288 with 1 Axes>"
      ]
     },
     "metadata": {
      "needs_background": "light"
     },
     "output_type": "display_data"
    },
    {
     "data": {
      "image/png": "[encoded data removed]",
      "text/plain": [
       "<Figure size 432x288 with 1 Axes>"
      ]
     },
     "metadata": {
      "needs_background": "light"
     },
     "output_type": "display_data"
    },
    {
     "data": {
      "text/plain": [
       "array([[ 51,  68],\n",
       "       [ 56, 100],\n",
       "       [ 42,  88],\n",
       "       [ 24,  92],\n",
       "       [ 27,  74],\n",
       "       [ 17,  39],\n",
       "       [  3,  31],\n",
       "       [  6,   0],\n",
       "       [ 48,   2],\n",
       "       [ 55,   8],\n",
       "       [ 96,  21],\n",
       "       [ 99,  41],\n",
       "       [ 95,  67],\n",
       "       [ 91,  72],\n",
       "       [ 88,  78],\n",
       "       [ 72,  73],\n",
       "       [ 76,  70],\n",
       "       [ 93,  52],\n",
       "       [ 78,  38],\n",
       "       [ 49,  62],\n",
       "       [ 51,  68]])"
      ]
     },
     "execution_count": 1657,
     "metadata": {},
     "output_type": "execute_result"
    }
   ],
   "source": [
    "SearchAlgorithms.hillClimbingWithRandomRestart(TravellingSalesman(20))\n"
   ]
  },
  {
   "cell_type": "code",
   "execution_count": 1658,
   "metadata": {},
   "outputs": [],
   "source": [
    "# SearchAlgorithms.simulatedAnnealing(TravellingSalesman(10), SearchAlgorithms.schedule)\n"
   ]
  }
 ],
 "metadata": {
  "interpreter": {
   "hash": "21d5e0349dd4088d7886e9913d8e7806ba0ad12223998a77838c11d913fd62a0"
  },
  "kernelspec": {
   "display_name": "Python 3.9.7 64-bit ('venv': venv)",
   "language": "python",
   "name": "python3"
  },
  "language_info": {
   "codemirror_mode": {
    "name": "ipython",
    "version": 3
   },
   "file_extension": ".py",
   "mimetype": "text/x-python",
   "name": "python",
   "nbconvert_exporter": "python",
   "pygments_lexer": "ipython3",
   "version": "3.9.7"
  },
  "orig_nbformat": 4
 },
 "nbformat": 4,
 "nbformat_minor": 2
}
